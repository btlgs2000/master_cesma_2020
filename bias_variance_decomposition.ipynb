{
 "cells": [
  {
   "cell_type": "code",
   "execution_count": null,
   "metadata": {},
   "outputs": [],
   "source": [
    "import numpy as np\n",
    "\n",
    "import matplotlib.pyplot as plt\n",
    "\n",
    "from sklearn.preprocessing import StandardScaler, PolynomialFeatures\n",
    "from sklearn.linear_model import Ridge\n",
    "\n",
    "from tqdm import tqdm"
   ]
  },
  {
   "cell_type": "code",
   "execution_count": null,
   "metadata": {},
   "outputs": [],
   "source": [
    "def get_dataset(X, error=0.2):\n",
    "    sigma = np.sqrt(error)\n",
    "    Y = np.sin(X) + np.random.randn(X.shape[0])*sigma\n",
    "\n",
    "    # poly features\n",
    "    pf = PolynomialFeatures(degree=8, include_bias=False)\n",
    "    X_poly = pf.fit_transform(X.reshape(-1, 1))\n",
    "\n",
    "    return X_poly, Y"
   ]
  },
  {
   "cell_type": "code",
   "execution_count": null,
   "metadata": {},
   "outputs": [],
   "source": [
    "def get_variance(predictions):\n",
    "    return np.mean(np.var(predictions, axis=0))\n",
    "\n",
    "def get_bias_squared(Xs, predictions):\n",
    "    return np.mean((np.mean(predictions, axis=0) - np.sin(np.array(Xs)))**2)"
   ]
  },
  {
   "cell_type": "code",
   "execution_count": null,
   "metadata": {
    "tags": []
   },
   "outputs": [],
   "source": [
    "    n_train = 30\n",
    "    n_test = 200\n",
    "    X_train = np.random.uniform(-np.pi, np.pi, n_train)\n",
    "    X_test = np.random.uniform(-np.pi, np.pi, n_test)\n",
    "    trials = 100\n",
    "    \n",
    "    results = [] # (alpha, variance, bias^2)\n",
    "    for alpha in tqdm(np.logspace(-10, 5, 300)):\n",
    "        predictions = [] # contiene tutte le predizioni\n",
    "        Xs = []\n",
    "        for i in range(trials):\n",
    "            # nuovo dataset\n",
    "            X_poly_train, Y_train = get_dataset(X_train)\n",
    "\n",
    "            ridge = Ridge(alpha=alpha, normalize=True)\n",
    "            ridge.fit(X_poly_train, Y_train)\n",
    "            X_poly_test, Y_test = get_dataset(X_test)\n",
    "            y_hat = ridge.predict(X_poly_test)\n",
    "            predictions.append(y_hat)\n",
    "            print(Y_test)\n",
    "            print(y_hat)\n",
    "            mse = np.mean((Y_test - np.array(y_hat))**2)\n",
    "        \n",
    "        predictions = np.vstack(predictions)\n",
    "\n",
    "        results.append((alpha, get_variance(predictions), get_bias_squared(X_test, predictions), mse))"
   ]
  },
  {
   "cell_type": "code",
   "execution_count": null,
   "metadata": {},
   "outputs": [],
   "source": [
    "alphas, variances, bias_squared, mses = zip(*results)"
   ]
  },
  {
   "cell_type": "code",
   "execution_count": null,
   "metadata": {
    "tags": []
   },
   "outputs": [],
   "source": [
    "fig, ax = plt.subplots(1, 1, figsize=(15, 10))\n",
    "ax.scatter(np.log(alphas), variances, label='variance', s=3)\n",
    "ax.scatter(np.log(alphas), bias_squared, label='bias_squared', s=3)\n",
    "ax.scatter(np.log(alphas), mses, label='mse', s=3)\n",
    "# ax.set_yscale('log')\n",
    "plt.grid()\n",
    "ax.legend()"
   ]
  },
  {
   "cell_type": "code",
   "execution_count": null,
   "metadata": {},
   "outputs": [],
   "source": []
  }
 ],
 "metadata": {
  "language_info": {
   "codemirror_mode": {
    "name": "ipython",
    "version": 3
   },
   "file_extension": ".py",
   "mimetype": "text/x-python",
   "name": "python",
   "nbconvert_exporter": "python",
   "pygments_lexer": "ipython3",
   "version": "3.7.4-final"
  },
  "orig_nbformat": 2,
  "kernelspec": {
   "name": "python37464bitbaseconda23e937e95969445babd8b9c091f71447",
   "display_name": "Python 3.7.4 64-bit ('base': conda)"
  }
 },
 "nbformat": 4,
 "nbformat_minor": 2
}