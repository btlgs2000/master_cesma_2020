{
  "cells": [
    {
      "cell_type": "code",
      "metadata": {
        "id": "u-gq8PinCBtm",
        "colab_type": "code",
        "colab": {}
      },
      "source": [
        "import torch\n",
        "from torch.utils.data import Dataset, DataLoader\n",
        "import torch.nn.functional as F\n",
        "import numpy as np\n",
        "import matplotlib.pyplot as plt\n",
        "from mpl_toolkits.mplot3d import Axes3D\n",
        "from tqdm import tqdm"
      ],
      "execution_count": null,
      "outputs": []
    },
    {
      "cell_type": "code",
      "metadata": {
        "id": "LqRhQzf3CBtq",
        "colab_type": "code",
        "colab": {}
      },
      "source": [
        "x = torch.rand(5, 3)"
      ],
      "execution_count": null,
      "outputs": []
    },
    {
      "cell_type": "code",
      "metadata": {
        "id": "2npp3RNcCBtt",
        "colab_type": "code",
        "colab": {}
      },
      "source": [
        "y = torch.rand(3, 2)"
      ],
      "execution_count": null,
      "outputs": []
    },
    {
      "cell_type": "code",
      "metadata": {
        "id": "I37TaFfACBtx",
        "colab_type": "code",
        "colab": {
          "base_uri": "https://localhost:8080/",
          "height": 100
        },
        "outputId": "55fe4a8b-7dac-4d4a-b81f-e23ddaf46a27"
      },
      "source": [
        "x @ y"
      ],
      "execution_count": null,
      "outputs": []
    },
    {
      "cell_type": "code",
      "metadata": {
        "id": "Fu3cS6YaCBt2",
        "colab_type": "code",
        "colab": {}
      },
      "source": [
        "t = torch.tensor([1, 2])"
      ],
      "execution_count": null,
      "outputs": []
    },
    {
      "cell_type": "code",
      "metadata": {
        "id": "sm05EdBlCBt5",
        "colab_type": "code",
        "colab": {
          "base_uri": "https://localhost:8080/",
          "height": 33
        },
        "outputId": "23493577-b9cf-4d04-b06e-bdd886c28fa1"
      },
      "source": [
        "t.numel()"
      ],
      "execution_count": null,
      "outputs": []
    },
    {
      "cell_type": "code",
      "metadata": {
        "id": "4ZLBC-XcCBt7",
        "colab_type": "code",
        "colab": {
          "base_uri": "https://localhost:8080/",
          "height": 33
        },
        "outputId": "caaf6bd9-7e7e-4526-cc33-e904b415b160"
      },
      "source": [
        "t.shape"
      ],
      "execution_count": null,
      "outputs": []
    },
    {
      "cell_type": "code",
      "metadata": {
        "id": "gkpF1EtPCBt_",
        "colab_type": "code",
        "colab": {
          "base_uri": "https://localhost:8080/",
          "height": 33
        },
        "outputId": "686d0d57-5594-4022-e840-749231829ee9"
      },
      "source": [
        "t.ndim"
      ],
      "execution_count": null,
      "outputs": []
    },
    {
      "cell_type": "code",
      "metadata": {
        "id": "tPYdn3hBCBuB",
        "colab_type": "code",
        "colab": {
          "base_uri": "https://localhost:8080/",
          "height": 67
        },
        "outputId": "174623b9-366a-432e-a2e6-bba7ec681549"
      },
      "source": [
        "x.T"
      ],
      "execution_count": null,
      "outputs": []
    },
    {
      "cell_type": "code",
      "metadata": {
        "id": "nZ7Jv-rOCBuE",
        "colab_type": "code",
        "colab": {
          "base_uri": "https://localhost:8080/",
          "height": 33
        },
        "outputId": "411bad49-2589-4162-ddda-fd097d863e4f"
      },
      "source": [
        "x.device"
      ],
      "execution_count": null,
      "outputs": []
    },
    {
      "cell_type": "code",
      "metadata": {
        "id": "VeVjVVzbCBuG",
        "colab_type": "code",
        "colab": {
          "base_uri": "https://localhost:8080/",
          "height": 33
        },
        "outputId": "7456359c-44a2-4f64-956d-58b1221f7439"
      },
      "source": [
        "x.dtype"
      ],
      "execution_count": null,
      "outputs": []
    },
    {
      "cell_type": "code",
      "metadata": {
        "id": "L0JWEVhvCBuI",
        "colab_type": "code",
        "colab": {
          "base_uri": "https://localhost:8080/",
          "height": 100
        },
        "outputId": "fbfb12af-7c73-4ad8-a5e2-eef4a7fcd97d"
      },
      "source": [
        "x.numpy()"
      ],
      "execution_count": null,
      "outputs": []
    },
    {
      "cell_type": "code",
      "metadata": {
        "id": "UUbI164DCBuL",
        "colab_type": "code",
        "colab": {
          "base_uri": "https://localhost:8080/",
          "height": 33
        },
        "outputId": "d89712d6-79d4-444f-9f29-e4ff21361eed"
      },
      "source": [
        "torch.from_numpy(np.array([1, 2, 3], dtype=float))"
      ],
      "execution_count": null,
      "outputs": []
    },
    {
      "cell_type": "markdown",
      "metadata": {
        "id": "akTilpbtCKph",
        "colab_type": "text"
      },
      "source": [
        "# Tensori sulla cpu"
      ]
    },
    {
      "cell_type": "code",
      "metadata": {
        "id": "ViR_1b6wCN73",
        "colab_type": "code",
        "colab": {
          "base_uri": "https://localhost:8080/",
          "height": 100
        },
        "outputId": "e0aa4efd-3248-44cc-8164-4e272b5740b1"
      },
      "source": [
        "x"
      ],
      "execution_count": null,
      "outputs": []
    },
    {
      "cell_type": "code",
      "metadata": {
        "id": "CHeJJZZ8CQvK",
        "colab_type": "code",
        "colab": {
          "base_uri": "https://localhost:8080/",
          "height": 33
        },
        "outputId": "5d7d9f32-6942-49e6-f95a-b41a272c9730"
      },
      "source": [
        "x.device"
      ],
      "execution_count": null,
      "outputs": []
    },
    {
      "cell_type": "code",
      "metadata": {
        "id": "44c_wWx3CSnB",
        "colab_type": "code",
        "colab": {}
      },
      "source": [
        "x = x.to('cuda:0')"
      ],
      "execution_count": null,
      "outputs": []
    },
    {
      "cell_type": "code",
      "metadata": {
        "id": "DlGfgHMNCVjd",
        "colab_type": "code",
        "colab": {}
      },
      "source": [
        "z = x @ y"
      ],
      "execution_count": null,
      "outputs": []
    },
    {
      "cell_type": "code",
      "metadata": {
        "id": "yOSPo8e9Crj4",
        "colab_type": "code",
        "colab": {}
      },
      "source": [
        "z = x @ y.to('cuda')"
      ],
      "execution_count": null,
      "outputs": []
    },
    {
      "cell_type": "code",
      "metadata": {
        "id": "AGcZl--cC685",
        "colab_type": "code",
        "colab": {}
      },
      "source": [
        "%%time\n",
        "\n",
        "x = torch.rand(1000, 1000)\n",
        "y = torch.rand(1000, 1000)\n",
        "\n",
        "for _ in range(500):\n",
        "    x @ y"
      ],
      "execution_count": null,
      "outputs": []
    },
    {
      "cell_type": "code",
      "metadata": {
        "id": "LTizSgkjDEx5",
        "colab_type": "code",
        "colab": {}
      },
      "source": [
        "%%time\n",
        "\n",
        "x = torch.rand(1000, 1000, device='cuda')\n",
        "y = torch.rand(1000, 1000, device='cuda')\n",
        "\n",
        "for _ in range(500):\n",
        "    x @ y"
      ],
      "execution_count": null,
      "outputs": []
    },
    {
      "cell_type": "markdown",
      "metadata": {
        "id": "VhGQFoinExB7",
        "colab_type": "text"
      },
      "source": [
        "# Differenziazione automatica"
      ]
    },
    {
      "cell_type": "code",
      "metadata": {
        "id": "byXrJpkODeCF",
        "colab_type": "code",
        "colab": {}
      },
      "source": [
        "x = torch.rand(2, 2, requires_grad=True)\n",
        "s = torch.sum(x**10)"
      ],
      "execution_count": null,
      "outputs": []
    },
    {
      "cell_type": "code",
      "metadata": {
        "id": "ZDv1vwrZFHTq",
        "colab_type": "code",
        "colab": {}
      },
      "source": [
        "s.backward()"
      ],
      "execution_count": null,
      "outputs": []
    },
    {
      "cell_type": "code",
      "metadata": {
        "id": "XNzF1wMpGF7_",
        "colab_type": "code",
        "colab": {
          "base_uri": "https://localhost:8080/",
          "height": 50
        },
        "outputId": "0b56c0ef-1b52-4033-cbda-d331ac1f9f48"
      },
      "source": [
        "x.grad"
      ],
      "execution_count": null,
      "outputs": []
    },
    {
      "cell_type": "markdown",
      "metadata": {
        "id": "hy3tqcnuWrTF",
        "colab_type": "text"
      },
      "source": [
        "# Dataset"
      ]
    },
    {
      "cell_type": "code",
      "metadata": {
        "id": "_62O1Z_3Gqdh",
        "colab_type": "code",
        "colab": {}
      },
      "source": [
        "n = 100_000\n",
        "X = np.random.random_sample((n, 2))*2*np.pi - np.pi\n",
        "y = np.sin(X[:, 0] + X[:, 1]).reshape(-1, 1)"
      ],
      "execution_count": null,
      "outputs": []
    },
    {
      "cell_type": "code",
      "metadata": {
        "id": "jvPXp7thd14a",
        "colab_type": "code",
        "colab": {}
      },
      "source": [
        "m = 10_000\n",
        "X_test = np.random.random_sample((n, 2))*2*np.pi - np.pi\n",
        "y_test = np.sin(X_test[:, 0] + X_test[:, 1]).reshape(-1, 1)"
      ],
      "execution_count": null,
      "outputs": []
    },
    {
      "cell_type": "code",
      "metadata": {
        "id": "u6eYCFwRG5gk",
        "colab_type": "code",
        "colab": {
          "base_uri": "https://localhost:8080/",
          "height": 483
        },
        "outputId": "ce516e4f-f700-43ac-fa7f-ec8f6ddb9e1d"
      },
      "source": [
        "fig = plt.figure(figsize=(8, 8))\n",
        "ax = fig.add_subplot(111, projection='3d')\n",
        "ax.plot_trisurf(X[:, 0], X[: ,1], y.ravel())"
      ],
      "execution_count": null,
      "outputs": []
    },
    {
      "cell_type": "markdown",
      "metadata": {
        "id": "d-MG6ElSGr4b",
        "colab_type": "text"
      },
      "source": [
        "# Rete neurale"
      ]
    },
    {
      "cell_type": "code",
      "metadata": {
        "id": "-83kjebkSORV",
        "colab_type": "code",
        "colab": {}
      },
      "source": [
        "class FuncDataset(Dataset):\n",
        "\n",
        "    def __init__(self, X, y):\n",
        "        super().__init__()\n",
        "        self.X = torch.from_numpy(X).float()\n",
        "        self.y = torch.from_numpy(y).float()\n",
        "\n",
        "    def __len__(self):\n",
        "        return self.X.shape[0]\n",
        "    \n",
        "    def __getitem__(self, idx):\n",
        "        return self.X[idx], self.y[idx]"
      ],
      "execution_count": null,
      "outputs": []
    },
    {
      "cell_type": "code",
      "metadata": {
        "id": "JgVjkHAlVqD4",
        "colab_type": "code",
        "colab": {}
      },
      "source": [
        "dataset = FuncDataset(X, y)"
      ],
      "execution_count": null,
      "outputs": []
    },
    {
      "cell_type": "code",
      "metadata": {
        "id": "2pbpl3f-WSUx",
        "colab_type": "code",
        "colab": {}
      },
      "source": [
        "NUM_EPOCHS = 10\n",
        "BATCH_SIZE = 32\n",
        "ALPHA = 1e-3"
      ],
      "execution_count": null,
      "outputs": []
    },
    {
      "cell_type": "code",
      "metadata": {
        "id": "RnWhBN0kV6UT",
        "colab_type": "code",
        "colab": {}
      },
      "source": [
        "data_loader = DataLoader(dataset=dataset, batch_size=BATCH_SIZE, shuffle=True)"
      ],
      "execution_count": null,
      "outputs": []
    },
    {
      "cell_type": "code",
      "metadata": {
        "id": "zUk-fMfbW9_A",
        "colab_type": "code",
        "colab": {}
      },
      "source": [
        "device = 'cpu'\n",
        "w1 = torch.randn(2, 50, device=device, requires_grad=True)\n",
        "b1 = torch.zeros(1, 50, device=device, requires_grad=True)\n",
        "w2 = torch.randn(50, 1, device=device, requires_grad=True)\n",
        "b2 = torch.zeros(1, 1, device=device, requires_grad=True)\n",
        "\n",
        "params = [w1, b1, w2, b2]"
      ],
      "execution_count": null,
      "outputs": []
    },
    {
      "cell_type": "code",
      "metadata": {
        "id": "UOwdA4QkWlUy",
        "colab_type": "code",
        "colab": {}
      },
      "source": [
        "def forward(x, y):\n",
        "    z1 = x@w1 + b1\n",
        "    a1 = F.relu(z1)\n",
        "    y_ = a1@w2 + b2\n",
        "    loss = F.mse_loss(y, y_)\n",
        "    return y_, loss"
      ],
      "execution_count": null,
      "outputs": []
    },
    {
      "cell_type": "markdown",
      "metadata": {
        "id": "_4in3drkWcN5",
        "colab_type": "text"
      },
      "source": [
        "# Addestramento"
      ]
    },
    {
      "cell_type": "code",
      "metadata": {
        "id": "_ileeo-gWdns",
        "colab_type": "code",
        "colab": {
          "base_uri": "https://localhost:8080/",
          "height": 351
        },
        "outputId": "afdf1842-2c43-430c-e77f-02b2cd3459a0"
      },
      "source": [
        "losses = []\n",
        "for epoch in range(NUM_EPOCHS):\n",
        "    for i, (x_batch, y_batch) in tqdm(enumerate(data_loader)):\n",
        "        y_, loss = forward(x_batch, y_batch)\n",
        "        losses.append(loss)\n",
        "        for param in params:\n",
        "            if param.grad is not None:\n",
        "                param.grad.zero_()\n",
        "        loss.backward()\n",
        "        with torch.no_grad():\n",
        "            for param in params:\n",
        "                param -= ALPHA * param.grad\n",
        "        if i-1 % 1000 == 0:\n",
        "            print(torch.mean(torch.tensor(losses[-1000:])))"
      ],
      "execution_count": null,
      "outputs": []
    },
    {
      "cell_type": "markdown",
      "metadata": {
        "id": "VQIGLxgfd_OF",
        "colab_type": "text"
      },
      "source": [
        "# Test"
      ]
    },
    {
      "cell_type": "code",
      "metadata": {
        "id": "XC1I5BPgd_8k",
        "colab_type": "code",
        "colab": {}
      },
      "source": [
        "y_test_, _ = forward(torch.tensor(X_test).float(), torch.tensor(y_test).float())"
      ],
      "execution_count": null,
      "outputs": []
    },
    {
      "cell_type": "code",
      "metadata": {
        "id": "6Ihg84R6el9c",
        "colab_type": "code",
        "colab": {
          "base_uri": "https://localhost:8080/",
          "height": 592
        },
        "outputId": "20b39282-c8ce-40f5-c559-940e7e78b031"
      },
      "source": [
        "fig = plt.figure(figsize=(20, 10))\n",
        "\n",
        "ax_train = fig.add_subplot(121, projection='3d', title='train set')\n",
        "ax_test = fig.add_subplot(122, projection='3d', title='test set')\n",
        "\n",
        "ax_test.plot_trisurf(X_test[:, 0], X_test[: ,1], y_test_.detach().numpy().ravel())\n",
        "ax_train.plot_trisurf(X[:, 0], X[: ,1], y.ravel())"
      ],
      "execution_count": null,
      "outputs": []
    },
    {
      "cell_type": "code",
      "metadata": {
        "id": "n1JNOTqUgeDR",
        "colab_type": "code",
        "colab": {}
      },
      "source": [
        ""
      ],
      "execution_count": null,
      "outputs": []
    }
  ],
  "metadata": {
    "language_info": {
      "codemirror_mode": {
        "name": "ipython",
        "version": 3
      },
      "file_extension": ".py",
      "mimetype": "text/x-python",
      "name": "python",
      "nbconvert_exporter": "python",
      "pygments_lexer": "ipython3",
      "version": "3.7.4-final"
    },
    "orig_nbformat": 2,
    "kernelspec": {
      "name": "python37464bitbaseconda23e937e95969445babd8b9c091f71447",
      "display_name": "Python 3.7.4 64-bit ('base': conda)"
    },
    "colab": {
      "name": "Copy_of_pytorch_autograd_regression.ipynb",
      "provenance": [],
      "collapsed_sections": []
    }
  },
  "nbformat": 4,
  "nbformat_minor": 0
}