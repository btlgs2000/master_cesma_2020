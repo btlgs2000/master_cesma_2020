{
  "cells": [
    {
      "cell_type": "code",
      "metadata": {
        "id": "IAp_RTSOzTt5",
        "colab_type": "code",
        "colab": {}
      },
      "source": [
        "%matplotlib notebook\n",
        "import numpy as np\n",
        "import matplotlib.pyplot as plt\n",
        "import torch\n",
        "import torch.nn as nn\n",
        "import torch.nn.functional as F\n",
        "from torch.utils.data import Dataset, DataLoader\n",
        "import random\n",
        "\n",
        "from torch.utils.tensorboard import SummaryWriter"
      ],
      "execution_count": null,
      "outputs": []
    },
    {
      "cell_type": "code",
      "metadata": {
        "id": "nMDU7ShvzTt-",
        "colab_type": "code",
        "colab": {
          "base_uri": "https://localhost:8080/",
          "height": 371
        },
        "outputId": "4bb9c439-84a2-441a-cda1-6dc66628a8fa"
      },
      "source": [
        "! wget https://www.dropbox.com/s/mw6ctze0ikcuqt4/mnist_train.csv?dl=0 -O mnist_train.csv"
      ],
      "execution_count": null,
      "outputs": []
    },
    {
      "cell_type": "code",
      "metadata": {
        "id": "2pZClTLozTuA",
        "colab_type": "code",
        "colab": {
          "base_uri": "https://localhost:8080/",
          "height": 371
        },
        "outputId": "050aa443-53e6-402e-fa3b-f015da03578e"
      },
      "source": [
        "! wget https://www.dropbox.com/s/e8n5v1sea2housp/mnist_test.csv?dl=0 -O mnist_test.csv"
      ],
      "execution_count": null,
      "outputs": []
    },
    {
      "cell_type": "code",
      "metadata": {
        "id": "Qr7wMK4yzTuD",
        "colab_type": "code",
        "colab": {}
      },
      "source": [
        "train_data = np.loadtxt(\"mnist_train.csv\", \n",
        "                        delimiter=\",\")\n",
        "test_data = np.loadtxt(\"mnist_test.csv\", \n",
        "                       delimiter=\",\")"
      ],
      "execution_count": null,
      "outputs": []
    },
    {
      "cell_type": "code",
      "metadata": {
        "id": "EUm7GZ4K3cnN",
        "colab_type": "code",
        "colab": {
          "base_uri": "https://localhost:8080/",
          "height": 33
        },
        "outputId": "823a27a8-810d-4a04-daef-a66ce0a8785d"
      },
      "source": [
        "train_data.shape"
      ],
      "execution_count": null,
      "outputs": []
    },
    {
      "cell_type": "code",
      "metadata": {
        "id": "HsOyndhmzTuK",
        "colab_type": "code",
        "colab": {}
      },
      "source": [
        "test_labels = test_data[:, 0].astype(int)\n",
        "test_images = test_data[:, 1:].reshape(-1, 28*28) / 255.\n",
        "train_labels = train_data[:, 0].astype(int)\n",
        "train_images = train_data[:, 1:].reshape(-1, 28*28) / 255."
      ],
      "execution_count": null,
      "outputs": []
    },
    {
      "cell_type": "code",
      "metadata": {
        "id": "4SXi3NB1zTuM",
        "colab_type": "code",
        "colab": {}
      },
      "source": [
        "ALPHA = 0.001\n",
        "NUM_EPOCHS = 20\n",
        "BATCH_SIZE = 32"
      ],
      "execution_count": null,
      "outputs": []
    },
    {
      "cell_type": "markdown",
      "metadata": {
        "id": "Knd7L32KzTuP",
        "colab_type": "text"
      },
      "source": [
        "# Dataset"
      ]
    },
    {
      "cell_type": "code",
      "metadata": {
        "id": "ogSE1tARzTuP",
        "colab_type": "code",
        "colab": {}
      },
      "source": [
        "class MNIST_Trainset(Dataset):\n",
        "    def __init__(self, X, y):\n",
        "        self.X = torch.from_numpy(X)\n",
        "        self.y = torch.from_numpy(y)\n",
        "\n",
        "    def __len__(self):\n",
        "        return self.X.shape[0]\n",
        "    \n",
        "    def __getitem__(self, idx):\n",
        "        return self.X[idx], self.y[idx]"
      ],
      "execution_count": null,
      "outputs": []
    },
    {
      "cell_type": "code",
      "metadata": {
        "id": "3-NvfM34zTuS",
        "colab_type": "code",
        "colab": {}
      },
      "source": [
        "MNIST_loader = DataLoader(MNIST_Trainset(X=train_images, y=train_labels), batch_size=BATCH_SIZE, shuffle=True)"
      ],
      "execution_count": null,
      "outputs": []
    },
    {
      "cell_type": "markdown",
      "metadata": {
        "id": "p1A3v3yIzTuX",
        "colab_type": "text"
      },
      "source": [
        "# Model"
      ]
    },
    {
      "cell_type": "markdown",
      "metadata": {
        "id": "NkyH3M1QzTuX",
        "colab_type": "text"
      },
      "source": [
        "# Sequenziale"
      ]
    },
    {
      "cell_type": "code",
      "metadata": {
        "id": "e8ann7BXzTuY",
        "colab_type": "code",
        "colab": {}
      },
      "source": [
        "model = nn.Sequential(\n",
        "    nn.Linear(784, 50),\n",
        "    nn.ReLU(),\n",
        "    nn.Linear(50, 50),\n",
        "    nn.ReLU(),\n",
        "    nn.Linear(50, 10)\n",
        ")"
      ],
      "execution_count": null,
      "outputs": []
    },
    {
      "cell_type": "code",
      "metadata": {
        "id": "xR0fRiCTAvZh",
        "colab_type": "code",
        "colab": {}
      },
      "source": [
        "optimizer = torch.optim.SGD(model.parameters(), lr=1e-3)"
      ],
      "execution_count": null,
      "outputs": []
    },
    {
      "cell_type": "code",
      "metadata": {
        "id": "5UW5_sIg8gpw",
        "colab_type": "code",
        "colab": {}
      },
      "source": [
        "EPOCHS = 100\n",
        "LR = 1e-3\n",
        "BATCH_SIZE = 32"
      ],
      "execution_count": null,
      "outputs": []
    },
    {
      "cell_type": "code",
      "execution_count": null,
      "metadata": {},
      "outputs": [],
      "source": [
        "summary_writer = SummaryWriter()"
      ]
    },
    {
      "cell_type": "code",
      "execution_count": null,
      "metadata": {},
      "outputs": [],
      "source": [
        "from sklearn.metrics import accuracy_score"
      ]
    },
    {
      "cell_type": "code",
      "metadata": {
        "id": "0tku8AfV8gnu",
        "colab_type": "code",
        "colab": {
          "base_uri": "https://localhost:8080/",
          "height": 351
        },
        "outputId": "6867e6a2-0519-436b-e415-fa47679846e2"
      },
      "source": [
        "counter = 0\n",
        "for epoch in range(EPOCHS):\n",
        "    for i, (x_b, y_b) in enumerate(MNIST_loader):\n",
        "        y_ = model(x_b.float())\n",
        "        loss = F.cross_entropy(y_, y_b.long())\n",
        "        optimizer.zero_grad()\n",
        "        loss.backward()\n",
        "        optimizer.step()\n",
        "        counter += 1\n",
        "        if counter % 100 == 0:\n",
        "            y_test_ = model(torch.tensor(test_images).float())\n",
        "            pred_test = torch.argmax(y_test_, dim=1)\n",
        "            test_accuracy = accuracy_score(test_labels, pred_test)\n",
        "            summary_writer.add_scalar('test accuracy', test_accuracy, counter)\n",
        "        summary_writer.add_scalar('training loss', loss, counter)"
      ],
      "execution_count": null,
      "outputs": []
    },
    {
      "cell_type": "markdown",
      "metadata": {},
      "source": [
        "# Accuratezza sul test set"
      ]
    },
    {
      "cell_type": "code",
      "metadata": {
        "id": "Vr4_6nDuBu6o",
        "colab_type": "code",
        "colab": {}
      },
      "source": [
        "y_test_ = model(torch.tensor(test_images).float())"
      ],
      "execution_count": null,
      "outputs": []
    },
    {
      "cell_type": "code",
      "metadata": {
        "id": "reEQbPx8EhG9",
        "colab_type": "code",
        "colab": {}
      },
      "source": [
        "pred_test = torch.argmax(y_test_, dim=1)"
      ],
      "execution_count": null,
      "outputs": []
    },
    {
      "cell_type": "code",
      "metadata": {
        "id": "t0Jh6GpdFDe9",
        "colab_type": "code",
        "colab": {}
      },
      "source": [
        "from sklearn.metrics import  accuracy_score"
      ],
      "execution_count": null,
      "outputs": []
    },
    {
      "cell_type": "code",
      "metadata": {
        "id": "p0pGxpMoFS5e",
        "colab_type": "code",
        "colab": {
          "base_uri": "https://localhost:8080/",
          "height": 33
        },
        "outputId": "44adc0fc-1957-4b53-88ff-d27914a8b262"
      },
      "source": [
        "accuracy_score(test_labels, pred_test)"
      ],
      "execution_count": null,
      "outputs": []
    },
    {
      "cell_type": "markdown",
      "metadata": {
        "id": "ROBYvNs_zTub",
        "colab_type": "text"
      },
      "source": [
        "# Generico"
      ]
    },
    {
      "cell_type": "code",
      "metadata": {
        "id": "CaKEj9_qzTub",
        "colab_type": "code",
        "colab": {}
      },
      "source": [
        "class MLP(nn.Module):\n",
        "    def __init__(self):\n",
        "        super().__init__()\n",
        "        pass\n",
        "        \n",
        "    def forward(self, x):\n",
        "        return F.softmax('last layer', dim=1)"
      ],
      "execution_count": null,
      "outputs": []
    },
    {
      "cell_type": "markdown",
      "metadata": {
        "id": "NDvgqipUzTue",
        "colab_type": "text"
      },
      "source": [
        "# Addestramento"
      ]
    }
  ],
  "metadata": {
    "kernelspec": {
      "display_name": "Python 3",
      "language": "python",
      "name": "python3"
    },
    "language_info": {
      "codemirror_mode": {
        "name": "ipython",
        "version": 3
      },
      "file_extension": ".py",
      "mimetype": "text/x-python",
      "name": "python",
      "nbconvert_exporter": "python",
      "pygments_lexer": "ipython3",
      "version": "3.7.4-final"
    },
    "colab": {
      "name": "Copy of Esercizio_MNIST.ipynb",
      "provenance": [],
      "collapsed_sections": [],
      "toc_visible": true
    }
  },
  "nbformat": 4,
  "nbformat_minor": 0
}