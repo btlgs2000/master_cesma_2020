{
 "cells": [
  {
   "cell_type": "code",
   "execution_count": null,
   "metadata": {},
   "outputs": [],
   "source": [
    "import numpy as np\n",
    "from tqdm import tqdm\n",
    "import matplotlib.pyplot as plt"
   ]
  },
  {
   "cell_type": "code",
   "execution_count": null,
   "metadata": {},
   "outputs": [],
   "source": [
    "n = 100_000\n",
    "X = np.random.random_sample((n, 2))*2*np.pi - np.pi\n",
    "y = np.sin(X[:, 0] + X[:, 1])"
   ]
  },
  {
   "cell_type": "code",
   "execution_count": null,
   "metadata": {},
   "outputs": [],
   "source": [
    "class LinearLayer:\n",
    "    def __init__(self, in_n, out_n):\n",
    "        self.in_n = in_n\n",
    "        self.out_n = out_n\n",
    "        # Kaiming inizialization\n",
    "        self.b = np.zeros((out_n, 1))\n",
    "        self.W = np.random.randn(out_n, in_n) * np.sqrt(2/in_n)\n",
    "\n",
    "    def forward(self, x):\n",
    "        self.x = x\n",
    "        <SCRIVI QUI IL TUO CODICE>\n",
    "        return y\n",
    "\n",
    "    def backward(self, dy):\n",
    "        <SCRIVI QUI IL TUO CODICE>\n",
    "        self.dW = <SCRIVI QUI IL TUO CODICE>\n",
    "        self.db = <SCRIVI QUI IL TUO CODICE>\n",
    "        return dx"
   ]
  },
  {
   "cell_type": "code",
   "execution_count": null,
   "metadata": {},
   "outputs": [],
   "source": [
    "class Sigmoid:\n",
    "    def forward(self, x):\n",
    "        self.sigma = 1/(1+np.exp(-x))\n",
    "        return self.sigma\n",
    "    \n",
    "    def backward(self, dy):\n",
    "        return np.diag(self.sigma.ravel() * (1 - self.sigma.ravel())) @ dy"
   ]
  },
  {
   "cell_type": "code",
   "execution_count": null,
   "metadata": {},
   "outputs": [],
   "source": [
    "class MSE:\n",
    "    def forward(self, y, y_):\n",
    "        self.y = y\n",
    "        self.y_ = y_\n",
    "        mse = (y - y_)**2\n",
    "        return mse\n",
    "    \n",
    "    def backward(self):\n",
    "        return 2 * (self.y_ - self.y)"
   ]
  },
  {
   "cell_type": "code",
   "execution_count": null,
   "metadata": {},
   "outputs": [],
   "source": [
    "class MLP:\n",
    "    def __init__(self, units_n):\n",
    "        self.linear_layers = [LinearLayer(units_n[i], units_n[i+1]) for i in range(len(units_n)-1)]\n",
    "        self.sigmoids = [Sigmoid() for _ in range(len(units_n)-2)]\n",
    "        self.loss = MSE()\n",
    "        \n",
    "    def forward(self, x, y):\n",
    "        y_ = x\n",
    "        for ll, sigmoid in zip(self.linear_layers[:-1], self.sigmoids):\n",
    "            y_ = ll.forward(y_)\n",
    "            y_ = sigmoid.forward(y_)\n",
    "            \n",
    "\n",
    "        y_ = self.linear_layers[-1].forward(y_)\n",
    "        loss = self.loss.forward(y, y_)\n",
    "        return y_, loss\n",
    "\n",
    "    def backward(self, y, y_):\n",
    "        <SCRIVI QUI IL TUO CODICE>\n",
    "            \n",
    "    def gradient_descent_step(self, alpha):\n",
    "        for linear_layer in self.linear_layers:\n",
    "            linear_layer.W -= alpha*linear_layer.dW\n",
    "            linear_layer.b -= alpha*linear_layer.db"
   ]
  },
  {
   "cell_type": "code",
   "execution_count": null,
   "metadata": {
    "tags": []
   },
   "outputs": [],
   "source": [
    "mlp = MLP([2, 50, 50, 1])"
   ]
  },
  {
   "cell_type": "code",
   "execution_count": null,
   "metadata": {
    "tags": []
   },
   "outputs": [],
   "source": [
    "epochs = 20\n",
    "alpha = 1e-2\n",
    "\n",
    "losses = []\n",
    "for epoch in range(epochs):\n",
    "    for i in tqdm(range(n)):\n",
    "        x = X[i:i+1, :]\n",
    "        y_, loss = mlp.forward(x.T, y[i])\n",
    "        mlp.backward(y[i], y_)\n",
    "        mlp.gradient_descent_step(alpha)\n",
    "        losses.append(loss[0][0])\n",
    "    print(np.mean(losses[-n:]))"
   ]
  },
  {
   "cell_type": "code",
   "execution_count": null,
   "metadata": {},
   "outputs": [],
   "source": [
    "plt.plot(losses)"
   ]
  }
 ],
 "metadata": {
  "language_info": {
   "codemirror_mode": {
    "name": "ipython",
    "version": 3
   },
   "file_extension": ".py",
   "mimetype": "text/x-python",
   "name": "python",
   "nbconvert_exporter": "python",
   "pygments_lexer": "ipython3",
   "version": "3.7.4-final"
  },
  "orig_nbformat": 2,
  "kernelspec": {
   "name": "python37464bitbaseconda23e937e95969445babd8b9c091f71447",
   "display_name": "Python 3.7.4 64-bit ('base': conda)"
  }
 },
 "nbformat": 4,
 "nbformat_minor": 2
}