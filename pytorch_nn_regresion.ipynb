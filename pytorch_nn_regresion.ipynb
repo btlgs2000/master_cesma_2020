{
  "nbformat": 4,
  "nbformat_minor": 0,
  "metadata": {
    "colab": {
      "name": "pytorch_nn",
      "provenance": [],
      "collapsed_sections": []
    },
    "kernelspec": {
      "name": "python3",
      "display_name": "Python 3"
    }
  },
  "cells": [
    {
      "cell_type": "code",
      "metadata": {
        "id": "wYb_o3o1iVv3",
        "colab_type": "code",
        "colab": {}
      },
      "source": [
        "import torch\n",
        "import torch.nn as nn\n",
        "from torch.utils.data import Dataset, DataLoader\n",
        "import torch.nn.functional as F\n",
        "import numpy as np\n",
        "from tqdm import tqdm\n",
        "import matplotlib.pyplot as plt"
      ],
      "execution_count": null,
      "outputs": []
    },
    {
      "cell_type": "code",
      "metadata": {
        "id": "D4WkCE8ahrM2",
        "colab_type": "code",
        "colab": {}
      },
      "source": [
        "n = 100_000\n",
        "X = np.random.random_sample((n, 2))*2*np.pi - np.pi\n",
        "y = np.sin(X[:, 0] + X[:, 1]).reshape(-1, 1)"
      ],
      "execution_count": null,
      "outputs": []
    },
    {
      "cell_type": "code",
      "metadata": {
        "id": "lT77_Nc7hz3m",
        "colab_type": "code",
        "colab": {}
      },
      "source": [
        "m = 10_000\n",
        "X_test = np.random.random_sample((n, 2))*2*np.pi - np.pi\n",
        "y_test = np.sin(X_test[:, 0] + X_test[:, 1]).reshape(-1, 1)"
      ],
      "execution_count": null,
      "outputs": []
    },
    {
      "cell_type": "code",
      "metadata": {
        "id": "zpquFxqyh1cO",
        "colab_type": "code",
        "colab": {}
      },
      "source": [
        "fig = plt.figure(figsize=(8, 8))\n",
        "ax = fig.add_subplot(111, projection='3d')\n",
        "ax.plot_trisurf(X[:, 0], X[: ,1], y.ravel())"
      ],
      "execution_count": null,
      "outputs": []
    },
    {
      "cell_type": "code",
      "metadata": {
        "id": "iqxJJ-VUh3vp",
        "colab_type": "code",
        "colab": {}
      },
      "source": [
        "class FuncDataset(Dataset):\n",
        "\n",
        "    def __init__(self, X, y):\n",
        "        super().__init__()\n",
        "        self.X = torch.from_numpy(X).float()\n",
        "        self.y = torch.from_numpy(y).float()\n",
        "\n",
        "    def __len__(self):\n",
        "        return self.X.shape[0]\n",
        "    \n",
        "    def __getitem__(self, idx):\n",
        "        return self.X[idx], self.y[idx]"
      ],
      "execution_count": null,
      "outputs": []
    },
    {
      "cell_type": "code",
      "metadata": {
        "id": "FrGgPagyh5mB",
        "colab_type": "code",
        "colab": {}
      },
      "source": [
        "dataset = FuncDataset(X, y)"
      ],
      "execution_count": null,
      "outputs": []
    },
    {
      "cell_type": "code",
      "metadata": {
        "id": "BfBZJX8Eh7d5",
        "colab_type": "code",
        "colab": {}
      },
      "source": [
        "NUM_EPOCHS = 10\n",
        "BATCH_SIZE = 32\n",
        "ALPHA = 1e-3"
      ],
      "execution_count": null,
      "outputs": []
    },
    {
      "cell_type": "code",
      "metadata": {
        "id": "Sn-G6CHWh89V",
        "colab_type": "code",
        "colab": {}
      },
      "source": [
        "data_loader = DataLoader(dataset=dataset, batch_size=BATCH_SIZE, shuffle=True)"
      ],
      "execution_count": null,
      "outputs": []
    },
    {
      "cell_type": "markdown",
      "metadata": {
        "id": "UfIpmEldinxl",
        "colab_type": "text"
      },
      "source": [
        "# Modello sequenziale"
      ]
    },
    {
      "cell_type": "code",
      "metadata": {
        "id": "a6kc3ARIjdT6",
        "colab_type": "code",
        "colab": {}
      },
      "source": [
        "NUM_EPOCHS = 10\n",
        "BATCH_SIZE = 32\n",
        "ALPHA = 1e-3"
      ],
      "execution_count": null,
      "outputs": []
    },
    {
      "cell_type": "code",
      "metadata": {
        "id": "P3eHmadEiu05",
        "colab_type": "code",
        "colab": {}
      },
      "source": [
        "IN = 2\n",
        "OUT1 = 50\n",
        "OUT2 = 1"
      ],
      "execution_count": null,
      "outputs": []
    },
    {
      "cell_type": "code",
      "metadata": {
        "id": "cGZY-R5uimzO",
        "colab_type": "code",
        "colab": {}
      },
      "source": [
        "model = nn.Sequential(\n",
        "    torch.nn.Linear(IN, OUT1),\n",
        "    nn.ReLU(),\n",
        "    torch.nn.Linear(OUT1, OUT2)\n",
        ")"
      ],
      "execution_count": null,
      "outputs": []
    },
    {
      "cell_type": "code",
      "metadata": {
        "id": "gdlvdn7vi9lo",
        "colab_type": "code",
        "colab": {}
      },
      "source": [
        "optimizer = torch.optim.SGD(model.parameters(), lr=ALPHA)"
      ],
      "execution_count": null,
      "outputs": []
    },
    {
      "cell_type": "code",
      "metadata": {
        "id": "oayvlPc2jl7S",
        "colab_type": "code",
        "colab": {}
      },
      "source": [
        "losses = []\n",
        "for epoch in range(NUM_EPOCHS):\n",
        "    for i, (x_batch, y_batch) in tqdm(enumerate(data_loader)):\n",
        "        optimizer.zero_grad()\n",
        "        y_ = model(x_batch)\n",
        "        loss = F.mse_loss(y_batch, y_)\n",
        "        losses.append(loss)\n",
        "        loss.backward()\n",
        "        optimizer.step()\n",
        "        if i-1 % 1000 == 0:\n",
        "            print(torch.mean(torch.tensor(losses[-1000:])))"
      ],
      "execution_count": null,
      "outputs": []
    },
    {
      "cell_type": "markdown",
      "metadata": {
        "id": "P-Rz-OYJlUA0",
        "colab_type": "text"
      },
      "source": [
        "# Modello funzionale"
      ]
    },
    {
      "cell_type": "code",
      "metadata": {
        "id": "a2TrVc6alVPg",
        "colab_type": "code",
        "colab": {}
      },
      "source": [
        "class MLP(nn.Module):\n",
        "    def __init__(self):\n",
        "        super().__init__()\n",
        "        self.linear1 = torch.nn.Linear(IN, OUT1)\n",
        "        self.linear2 = torch.nn.Linear(OUT1, OUT2)\n",
        "        \n",
        "    def forward(self, x):\n",
        "        x = F.relu(self.linear1(x))\n",
        "        y_ = self.linear2(x)\n",
        "        return y_"
      ],
      "execution_count": null,
      "outputs": []
    },
    {
      "cell_type": "code",
      "metadata": {
        "id": "tNHu3SMJlrDm",
        "colab_type": "code",
        "colab": {}
      },
      "source": [
        "model = MLP() #.cuda()"
      ],
      "execution_count": null,
      "outputs": []
    },
    {
      "cell_type": "code",
      "metadata": {
        "id": "kzkUFQWMm3T4",
        "colab_type": "code",
        "colab": {}
      },
      "source": [
        "optimizer = torch.optim.SGD(model.parameters(), lr=ALPHA)"
      ],
      "execution_count": null,
      "outputs": []
    },
    {
      "cell_type": "code",
      "metadata": {
        "id": "-nOkYEa5lm9v",
        "colab_type": "code",
        "colab": {}
      },
      "source": [
        "losses = []\n",
        "for epoch in range(NUM_EPOCHS):\n",
        "    for i, (x_batch, y_batch) in tqdm(enumerate(data_loader)):\n",
        "        optimizer.zero_grad()\n",
        "        y_ = model(x_batch)\n",
        "        loss = F.mse_loss(y_batch, y_)\n",
        "        losses.append(loss)\n",
        "        loss.backward()\n",
        "        optimizer.step()\n",
        "        if i-1 % 1000 == 0:\n",
        "            print(torch.mean(torch.tensor(losses[-1000:])))"
      ],
      "execution_count": null,
      "outputs": []
    }
  ]
}